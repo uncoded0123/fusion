{
 "cells": [
  {
   "cell_type": "code",
   "execution_count": 12,
   "id": "e5de6048-9ce8-44bd-8040-bac73e946fa2",
   "metadata": {},
   "outputs": [],
   "source": [
    "import torch\n",
    "\n",
    "txt = \"\"\"O Holy night The stars are brightly shining\n",
    "It is the night of our dear Savior birth\n",
    "Long lay the world in sin and error pining\n",
    "Til He appears and the soul felt its worth\n",
    "A thrill of hope the weary world rejoices\n",
    "For yonder breaks a new and glorious morn\n",
    "Fall on your knees O hear the Angel voices\n",
    "O night divine O night when Christ was born\n",
    "O night O Holy night O night divine\n",
    "\"\"\".lower().replace('\\n',' ')"
   ]
  },
  {
   "cell_type": "code",
   "execution_count": 13,
   "id": "a979b490-8ab4-41d1-86cd-15aa79f2936c",
   "metadata": {},
   "outputs": [
    {
     "data": {
      "text/plain": [
       "'z'"
      ]
     },
     "execution_count": 13,
     "metadata": {},
     "output_type": "execute_result"
    }
   ],
   "source": [
    "def stoi(s):\n",
    "    i = '.abcdefghijklmnopqrstuvwxyz '.index(s)\n",
    "    return i\n",
    "\n",
    "def itos(i):\n",
    "    s = '.abcdefghijklmnopqrstuvwxyz '[i]\n",
    "    return s"
   ]
  },
  {
   "cell_type": "code",
   "execution_count": 37,
   "id": "ddffdf04-a997-47c8-99e8-8a76c22facb9",
   "metadata": {},
   "outputs": [
    {
     "data": {
      "text/plain": [
       "['c', 'a', 'b']"
      ]
     },
     "execution_count": 37,
     "metadata": {},
     "output_type": "execute_result"
    }
   ],
   "source": [
    "a = []\n",
    "for i in [3,1,2]:\n",
    "    a.append(itos(i))\n",
    "a"
   ]
  },
  {
   "cell_type": "code",
   "execution_count": null,
   "id": "014be929-4808-4a8d-8b07-a754ad587c82",
   "metadata": {},
   "outputs": [],
   "source": []
  },
  {
   "cell_type": "code",
   "execution_count": 41,
   "id": "8bfd849e-872f-4d05-8c40-9cdc135e2829",
   "metadata": {},
   "outputs": [
    {
     "data": {
      "text/plain": [
       "[14, 5, 4, 25, 1, 18, 2]"
      ]
     },
     "execution_count": 41,
     "metadata": {},
     "output_type": "execute_result"
    }
   ],
   "source": [
    "a = []\n",
    "for i in 'brayden':\n",
    "    a.append(stoi(i))\n",
    "a[::-1]"
   ]
  },
  {
   "cell_type": "code",
   "execution_count": 42,
   "id": "0b3d2868-e72f-4b4e-a79b-3b8c595b32b0",
   "metadata": {},
   "outputs": [
    {
     "data": {
      "text/plain": [
       "['n', 'e', 'd', 'y', 'a', 'r', 'b']"
      ]
     },
     "execution_count": 42,
     "metadata": {},
     "output_type": "execute_result"
    }
   ],
   "source": [
    "c = []\n",
    "for i in a[::-1]:\n",
    "    c.append(itos(i))\n",
    "c"
   ]
  },
  {
   "cell_type": "code",
   "execution_count": 43,
   "id": "13dddf7e-4833-49c7-af5d-ef9c22046ac6",
   "metadata": {},
   "outputs": [
    {
     "data": {
      "text/plain": [
       "15"
      ]
     },
     "execution_count": 43,
     "metadata": {},
     "output_type": "execute_result"
    }
   ],
   "source": [
    "stoi('o')"
   ]
  }
 ],
 "metadata": {
  "kernelspec": {
   "display_name": "Python 3 (ipykernel)",
   "language": "python",
   "name": "python3"
  },
  "language_info": {
   "codemirror_mode": {
    "name": "ipython",
    "version": 3
   },
   "file_extension": ".py",
   "mimetype": "text/x-python",
   "name": "python",
   "nbconvert_exporter": "python",
   "pygments_lexer": "ipython3",
   "version": "3.11.5"
  }
 },
 "nbformat": 4,
 "nbformat_minor": 5
}
