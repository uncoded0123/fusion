{
 "cells": [
  {
   "cell_type": "code",
   "execution_count": 41,
   "id": "7de0cb89-c7d8-4f64-9b24-8c69eb0f942b",
   "metadata": {},
   "outputs": [
    {
     "name": "stdout",
     "output_type": "stream",
     "text": [
      "[ 72 448]\n"
     ]
    },
    {
     "ename": "UFuncTypeError",
     "evalue": "Cannot cast ufunc 'subtract' output from dtype('float64') to dtype('int64') with casting rule 'same_kind'",
     "output_type": "error",
     "traceback": [
      "\u001b[0;31m---------------------------------------------------------------------------\u001b[0m",
      "\u001b[0;31mUFuncTypeError\u001b[0m                            Traceback (most recent call last)",
      "Cell \u001b[0;32mIn[41], line 13\u001b[0m\n\u001b[1;32m     11\u001b[0m \u001b[38;5;28mprint\u001b[39m(grad)\n\u001b[1;32m     12\u001b[0m \u001b[38;5;66;03m# [72,448]\u001b[39;00m\n\u001b[0;32m---> 13\u001b[0m w \u001b[38;5;241m-\u001b[39m\u001b[38;5;241m=\u001b[39m \u001b[38;5;241m0.01\u001b[39m \u001b[38;5;241m*\u001b[39m grad\n\u001b[1;32m     14\u001b[0m \u001b[38;5;28mprint\u001b[39m(l)\n",
      "\u001b[0;31mUFuncTypeError\u001b[0m: Cannot cast ufunc 'subtract' output from dtype('float64') to dtype('int64') with casting rule 'same_kind'"
     ]
    }
   ],
   "source": [
    "import numpy as np\n",
    "\n",
    "x = np.array([4,7])\n",
    "w = np.array([3,5])\n",
    "y = np.array([3])\n",
    "\n",
    "for _ in range(15):\n",
    "    yh = x * w\n",
    "    l = (yh - y)**2\n",
    "    grad = 2 * (yh - y) * x\n",
    "    print(grad)\n",
    "    # [72,448]\n",
    "    w -= 0.01 * grad\n",
    "    print(l)"
   ]
  },
  {
   "cell_type": "code",
   "execution_count": 44,
   "id": "dc45d270-b7d8-4fbb-b030-062b5830dcb8",
   "metadata": {},
   "outputs": [
    {
     "data": {
      "text/plain": [
       "6.283185303211212"
      ]
     },
     "execution_count": 44,
     "metadata": {},
     "output_type": "execute_result"
    }
   ],
   "source": [
    "c1 = 8000 * 5280 * 3.14159265368979\n",
    "c2 = ((8000 * 5280) + 2) * 3.14159265368979\n",
    "c2 - c1"
   ]
  },
  {
   "cell_type": "code",
   "execution_count": 45,
   "id": "c629545c-be14-4236-9cdd-7cb3d79891a4",
   "metadata": {},
   "outputs": [
    {
     "data": {
      "text/plain": [
       "126720000"
      ]
     },
     "execution_count": 45,
     "metadata": {},
     "output_type": "execute_result"
    }
   ],
   "source": [
    "24000*5280"
   ]
  }
 ],
 "metadata": {
  "kernelspec": {
   "display_name": "Python 3 (ipykernel)",
   "language": "python",
   "name": "python3"
  },
  "language_info": {
   "codemirror_mode": {
    "name": "ipython",
    "version": 3
   },
   "file_extension": ".py",
   "mimetype": "text/x-python",
   "name": "python",
   "nbconvert_exporter": "python",
   "pygments_lexer": "ipython3",
   "version": "3.11.5"
  }
 },
 "nbformat": 4,
 "nbformat_minor": 5
}
